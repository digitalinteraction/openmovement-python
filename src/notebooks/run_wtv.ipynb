{
 "metadata": {
  "language_info": {
   "codemirror_mode": {
    "name": "ipython",
    "version": 3
   },
   "file_extension": ".py",
   "mimetype": "text/x-python",
   "name": "python",
   "nbconvert_exporter": "python",
   "pygments_lexer": "ipython3",
   "version": "3.9.4"
  },
  "orig_nbformat": 2,
  "kernelspec": {
   "name": "python394jvsc74a57bd002c9bea990b11010cf26a4250d990f1b8179e5f4effb7ffb5ddf3f17806f8289",
   "display_name": "Python 3.9.4 64-bit"
  },
  "metadata": {
   "interpreter": {
    "hash": "02c9bea990b11010cf26a4250d990f1b8179e5f4effb7ffb5ddf3f17806f8289"
   }
  }
 },
 "nbformat": 4,
 "nbformat_minor": 2,
 "cells": [
  {
   "cell_type": "code",
   "execution_count": 2,
   "metadata": {},
   "outputs": [],
   "source": [
    "# --- HACK: Allow the notebook to run in-repo without being part of the module\n",
    "if __package__ is None and os.path.isdir('../openmovement'): os.chdir('..'); \n",
    "# ---\n"
   ]
  },
  {
   "cell_type": "code",
   "execution_count": 10,
   "metadata": {},
   "outputs": [
    {
     "output_type": "stream",
     "name": "stdout",
     "text": [
      "Opening CWA file...\n",
      "...mapped 86.15869140625MB\n",
      "Parsing header...\n",
      "Interpreting data...\n",
      "From buffer...\n",
      "Creating data frame...\n",
      "Adding sector index...\n",
      "Adding sample index...\n",
      "Calculating checksums...\n",
      "Determining valid sectors...\n",
      "Sample data: unpacking...\n",
      "Create output...\n",
      "Parsing timestamps...\n",
      "Adjusting timestamps for fractional...\n",
      "Timestamp index...\n",
      "Timestamp interpolate...\n",
      "Sample data: scaling accel... 1/256\n",
      "Interpreted data\n",
      "Done... (elapsed=1.946563482284546)\n"
     ]
    }
   ],
   "source": [
    "# Either: Load data from a .CWA file (faster)\n",
    "from openmovement.load import cwa_load\n",
    "source_file = '../_local/data/mixed_wear.cwa'\n",
    "cwa_data = cwa_load.CwaData(source_file, verbose=True, include_gyro=False, include_temperature=False)\n",
    "data = cwa_data.get_sample_values()\n"
   ]
  },
  {
   "cell_type": "code",
   "execution_count": 5,
   "metadata": {},
   "outputs": [],
   "source": [
    "# Or: Load data from a .CSV file (slower)\n",
    "from openmovement.load import timeseries_csv\n",
    "source_file = '../_local/data/mixed_wear.csv'\n",
    "data = timeseries_csv.csv_load_pandas(source_file)\n"
   ]
  },
  {
   "cell_type": "code",
   "execution_count": 11,
   "metadata": {},
   "outputs": [
    {
     "output_type": "stream",
     "name": "stdout",
     "text": [
      "2019-10-10 08:00:06,1\n2019-10-10 08:30:06,1\n2019-10-10 09:00:06,1\n2019-10-10 09:30:06,1\n2019-10-10 10:00:06,1\n2019-10-10 10:30:06,1\n2019-10-10 11:00:06,1\n2019-10-10 11:30:06,1\n2019-10-10 12:00:06,1\n2019-10-10 12:30:06,1\n2019-10-10 13:00:06,1\n2019-10-10 13:30:06,0\n2019-10-10 14:00:06,0\n2019-10-10 14:30:06,1\n2019-10-10 15:00:06,0\n2019-10-10 15:30:06,1\n2019-10-10 16:00:06,0\n2019-10-10 16:30:06,0\n2019-10-10 17:00:06,1\n2019-10-10 17:30:06,1\n2019-10-10 18:00:06,1\n2019-10-10 18:30:06,1\n2019-10-10 19:00:06,1\n2019-10-10 19:30:06,1\n2019-10-10 20:00:06,1\n2019-10-10 20:30:06,1\n2019-10-10 21:00:06,1\n2019-10-10 21:30:06,1\n2019-10-10 22:00:06,1\n2019-10-10 22:30:06,1\n2019-10-10 23:00:06,1\n2019-10-10 23:30:06,1\n2019-10-11 00:00:06,1\n2019-10-11 00:30:06,1\n2019-10-11 01:00:06,1\n2019-10-11 01:30:06,1\n2019-10-11 02:00:06,1\n2019-10-11 02:30:06,1\n2019-10-11 03:00:06,0\n2019-10-11 03:30:06,0\n2019-10-11 04:00:06,0\n2019-10-11 04:30:06,0\n2019-10-11 05:00:06,0\n2019-10-11 05:30:06,0\n2019-10-11 06:00:06,0\n2019-10-11 06:30:06,0\n2019-10-11 07:00:06,0\n2019-10-11 07:30:06,0\n2019-10-11 08:00:06,0\n2019-10-11 08:30:06,0\n2019-10-11 09:00:06,1\n2019-10-11 09:30:06,1\n2019-10-11 10:00:06,1\n2019-10-11 10:30:06,1\n2019-10-11 11:00:06,1\n2019-10-11 11:30:06,1\n2019-10-11 12:00:06,1\n2019-10-11 12:30:06,1\n2019-10-11 13:00:06,1\n2019-10-11 13:30:06,1\n2019-10-11 14:00:06,1\n2019-10-11 14:30:06,1\n2019-10-11 15:00:06,1\n2019-10-11 15:30:06,1\n2019-10-11 16:00:06,1\n2019-10-11 16:30:06,1\n2019-10-11 17:00:06,1\n2019-10-11 17:30:06,1\n2019-10-11 18:00:06,1\n2019-10-11 18:30:06,1\n2019-10-11 19:00:06,1\n2019-10-11 19:30:06,1\n2019-10-11 20:00:06,1\n2019-10-11 20:30:06,1\n2019-10-11 21:00:06,1\n2019-10-11 21:30:06,1\n2019-10-11 22:00:06,1\n2019-10-11 22:30:06,1\n2019-10-11 23:00:06,1\n2019-10-11 23:30:06,1\n2019-10-12 00:00:06,1\n2019-10-12 00:30:06,1\n2019-10-12 01:00:06,1\n2019-10-12 01:30:06,1\n2019-10-12 02:00:06,1\n2019-10-12 02:30:06,1\n2019-10-12 03:00:06,1\n2019-10-12 03:30:06,0\n2019-10-12 04:00:06,1\n2019-10-12 04:30:06,1\n2019-10-12 05:00:06,1\n2019-10-12 05:30:06,1\n2019-10-12 06:00:06,1\n2019-10-12 06:30:06,1\n2019-10-12 07:00:06,1\n2019-10-12 07:30:06,1\n2019-10-12 08:00:06,1\n2019-10-12 08:30:06,1\n2019-10-12 09:00:06,1\n2019-10-12 09:30:06,1\n2019-10-12 10:00:06,1\n2019-10-12 10:30:06,1\n2019-10-12 11:00:06,1\n2019-10-12 11:30:06,1\n2019-10-12 12:00:06,1\n2019-10-12 12:30:06,1\n2019-10-12 13:00:06,1\n2019-10-12 13:30:06,1\n2019-10-12 14:00:06,1\n2019-10-12 14:30:06,1\n2019-10-12 15:00:06,1\n2019-10-12 15:30:06,1\n2019-10-12 16:00:06,1\n2019-10-12 16:30:06,1\n2019-10-12 17:00:06,1\n2019-10-12 17:30:06,1\n2019-10-12 18:00:06,1\n2019-10-12 18:30:06,1\n2019-10-12 19:00:06,1\n2019-10-12 19:30:06,1\n2019-10-12 20:00:06,1\n"
     ]
    }
   ],
   "source": [
    "# Calculate WTV\n",
    "from openmovement.process import calc_wtv\n",
    "wtv_calc = calc_wtv.calculate_wtv(data)\n",
    "\n",
    "# Output 30-minute WTV    \n",
    "for time, wtv in wtv_calc:\n",
    "    print('%s,%d' % (timeseries_csv.csv_datetime_string(time), wtv))\n"
   ]
  },
  {
   "cell_type": "code",
   "execution_count": null,
   "metadata": {},
   "outputs": [],
   "source": []
  }
 ]
}